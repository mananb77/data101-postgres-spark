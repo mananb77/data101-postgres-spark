{
 "cells": [
  {
   "cell_type": "code",
   "execution_count": 1,
   "metadata": {},
   "outputs": [
    {
     "name": "stderr",
     "output_type": "stream",
     "text": [
      "python(63332) MallocStackLogging: can't turn off malloc stack logging because it was not enabled.\n"
     ]
    },
    {
     "name": "stdout",
     "output_type": "stream",
     "text": [
      "Requirement already satisfied: ipykernel in /Users/mananbhargava/opt/anaconda3/lib/python3.9/site-packages (6.4.1)\n",
      "Requirement already satisfied: debugpy<2.0,>=1.0.0 in /Users/mananbhargava/opt/anaconda3/lib/python3.9/site-packages (from ipykernel) (1.4.1)\n",
      "Requirement already satisfied: jupyter-client<8.0 in /Users/mananbhargava/opt/anaconda3/lib/python3.9/site-packages (from ipykernel) (6.1.12)\n",
      "Requirement already satisfied: tornado<7.0,>=4.2 in /Users/mananbhargava/opt/anaconda3/lib/python3.9/site-packages (from ipykernel) (6.1)\n",
      "Requirement already satisfied: traitlets<6.0,>=4.1.0 in /Users/mananbhargava/opt/anaconda3/lib/python3.9/site-packages (from ipykernel) (5.1.0)\n",
      "Requirement already satisfied: matplotlib-inline<0.2.0,>=0.1.0 in /Users/mananbhargava/opt/anaconda3/lib/python3.9/site-packages (from ipykernel) (0.1.2)\n",
      "Requirement already satisfied: ipython<8.0,>=7.23.1 in /Users/mananbhargava/opt/anaconda3/lib/python3.9/site-packages (from ipykernel) (7.29.0)\n",
      "Requirement already satisfied: ipython-genutils in /Users/mananbhargava/opt/anaconda3/lib/python3.9/site-packages (from ipykernel) (0.2.0)\n",
      "Requirement already satisfied: appnope in /Users/mananbhargava/opt/anaconda3/lib/python3.9/site-packages (from ipykernel) (0.1.2)\n",
      "Requirement already satisfied: prompt-toolkit!=3.0.0,!=3.0.1,<3.1.0,>=2.0.0 in /Users/mananbhargava/opt/anaconda3/lib/python3.9/site-packages (from ipython<8.0,>=7.23.1->ipykernel) (3.0.20)\n",
      "Requirement already satisfied: setuptools>=18.5 in /Users/mananbhargava/opt/anaconda3/lib/python3.9/site-packages (from ipython<8.0,>=7.23.1->ipykernel) (58.0.4)\n",
      "Requirement already satisfied: decorator in /Users/mananbhargava/opt/anaconda3/lib/python3.9/site-packages (from ipython<8.0,>=7.23.1->ipykernel) (5.1.0)\n",
      "Requirement already satisfied: pickleshare in /Users/mananbhargava/opt/anaconda3/lib/python3.9/site-packages (from ipython<8.0,>=7.23.1->ipykernel) (0.7.5)\n",
      "Requirement already satisfied: backcall in /Users/mananbhargava/opt/anaconda3/lib/python3.9/site-packages (from ipython<8.0,>=7.23.1->ipykernel) (0.2.0)\n",
      "Requirement already satisfied: jedi>=0.16 in /Users/mananbhargava/opt/anaconda3/lib/python3.9/site-packages (from ipython<8.0,>=7.23.1->ipykernel) (0.18.0)\n",
      "Requirement already satisfied: pexpect>4.3 in /Users/mananbhargava/opt/anaconda3/lib/python3.9/site-packages (from ipython<8.0,>=7.23.1->ipykernel) (4.8.0)\n",
      "Requirement already satisfied: pygments in /Users/mananbhargava/opt/anaconda3/lib/python3.9/site-packages (from ipython<8.0,>=7.23.1->ipykernel) (2.10.0)\n",
      "Requirement already satisfied: parso<0.9.0,>=0.8.0 in /Users/mananbhargava/opt/anaconda3/lib/python3.9/site-packages (from jedi>=0.16->ipython<8.0,>=7.23.1->ipykernel) (0.8.2)\n",
      "Requirement already satisfied: pyzmq>=13 in /Users/mananbhargava/opt/anaconda3/lib/python3.9/site-packages (from jupyter-client<8.0->ipykernel) (22.2.1)\n",
      "Requirement already satisfied: jupyter-core>=4.6.0 in /Users/mananbhargava/opt/anaconda3/lib/python3.9/site-packages (from jupyter-client<8.0->ipykernel) (4.8.1)\n",
      "Requirement already satisfied: python-dateutil>=2.1 in /Users/mananbhargava/opt/anaconda3/lib/python3.9/site-packages (from jupyter-client<8.0->ipykernel) (2.8.2)\n",
      "Requirement already satisfied: ptyprocess>=0.5 in /Users/mananbhargava/opt/anaconda3/lib/python3.9/site-packages (from pexpect>4.3->ipython<8.0,>=7.23.1->ipykernel) (0.7.0)\n",
      "Requirement already satisfied: wcwidth in /Users/mananbhargava/opt/anaconda3/lib/python3.9/site-packages (from prompt-toolkit!=3.0.0,!=3.0.1,<3.1.0,>=2.0.0->ipython<8.0,>=7.23.1->ipykernel) (0.2.5)\n",
      "Requirement already satisfied: six>=1.5 in /Users/mananbhargava/opt/anaconda3/lib/python3.9/site-packages (from python-dateutil>=2.1->jupyter-client<8.0->ipykernel) (1.16.0)\n",
      "Note: you may need to restart the kernel to use updated packages.\n"
     ]
    }
   ],
   "source": [
    "%pip install ipykernel"
   ]
  },
  {
   "cell_type": "code",
   "execution_count": 2,
   "metadata": {},
   "outputs": [
    {
     "name": "stderr",
     "output_type": "stream",
     "text": [
      "python(63445) MallocStackLogging: can't turn off malloc stack logging because it was not enabled.\n"
     ]
    },
    {
     "name": "stdout",
     "output_type": "stream",
     "text": [
      "Requirement already satisfied: psycopg in /Users/mananbhargava/opt/anaconda3/lib/python3.9/site-packages (3.1.19)\n",
      "Requirement already satisfied: typing-extensions>=4.1 in /Users/mananbhargava/opt/anaconda3/lib/python3.9/site-packages (from psycopg) (4.12.2)\n",
      "Note: you may need to restart the kernel to use updated packages.\n"
     ]
    }
   ],
   "source": [
    "%pip install psycopg"
   ]
  },
  {
   "cell_type": "code",
   "execution_count": null,
   "metadata": {},
   "outputs": [
    {
     "ename": "",
     "evalue": "",
     "output_type": "error",
     "traceback": [
      "\u001b[1;31mRunning cells with 'Python 3.12.7' requires the ipykernel package.\n",
      "\u001b[1;31mRun the following command to install 'ipykernel' into the Python environment. \n",
      "\u001b[1;31mCommand: '/usr/local/bin/python3.12 -m pip install ipykernel -U --user --force-reinstall'"
     ]
    }
   ],
   "source": [
    "%pip install psycopg\n",
    "%pip install \"psycopg[binary]\""
   ]
  },
  {
   "cell_type": "code",
   "execution_count": null,
   "metadata": {},
   "outputs": [],
   "source": [
    "import psycopg\n",
    "\n",
    "# Connect to your PostgreSQL database\n",
    "# Make sure it is already running on your computer.\n",
    "# (This is done by default on JupyterHub)\n",
    "conn = psycopg.connect(\"localhost\")\n",
    "\n",
    "# Create a cursor object\n",
    "cur = conn.cursor()\n",
    "\n",
    "# Create a table\n",
    "cur.execute(\"\"\"\n",
    "  CREATE TABLE IF NOT EXISTS users (\n",
    "    id SERIAL PRIMARY KEY,\n",
    "    name TEXT,\n",
    "    age INT\n",
    "  )\n",
    "\"\"\")\n",
    "\n",
    "# Insert some data into the table\n",
    "cur.execute(\"\"\"\n",
    "  INSERT INTO users (name, age) VALUES\n",
    "  ('Alice', 30),\n",
    "  ('Bob', 25),\n",
    "  ('Charlie', 35)\n",
    "\"\"\")\n",
    "\n",
    "# Insert data using safe query interpolation\n",
    "cur.execute(\n",
    "  \"INSERT INTO users (name, age) VALUES (%s, %s)\",\n",
    "  ('David', 28)\n",
    ")\n",
    "\n",
    "# Insert data using a prepared statement\n",
    "# See https://www.postgresql.org/docs/8.1/sql-syntax.html#AEN1368\n",
    "prepared_statement = \"INSERT INTO users (name, age) VALUES ($1, $2)\"\n",
    "cur.execute(prepared_statement, ('Eve', 22))\n",
    "\n",
    "# Insert data from a list\n",
    "user_list = [\n",
    "  ('Frank', 40),\n",
    "  ('Grace', 29),\n",
    "  ('Hannah', 33)\n",
    "]\n",
    "\n",
    "# Use executemany to insert multiple rows\n",
    "# This properly escapes quotes, etc.\n",
    "cur.executemany(\n",
    "  \"INSERT INTO users (name, age) VALUES (%s, %s)\",\n",
    "  user_list\n",
    ")\n",
    "\n",
    "# Commit the transaction\n",
    "conn.commit()\n",
    "\n",
    "# Close the cursor and connection\n",
    "cur.close()\n",
    "conn.close()"
   ]
  }
 ],
 "metadata": {
  "kernelspec": {
   "display_name": "Python 3",
   "language": "python",
   "name": "python3"
  },
  "language_info": {
   "codemirror_mode": {
    "name": "ipython",
    "version": 3
   },
   "file_extension": ".py",
   "mimetype": "text/x-python",
   "name": "python",
   "nbconvert_exporter": "python",
   "pygments_lexer": "ipython3",
   "version": "3.9.7"
  }
 },
 "nbformat": 4,
 "nbformat_minor": 2
}
